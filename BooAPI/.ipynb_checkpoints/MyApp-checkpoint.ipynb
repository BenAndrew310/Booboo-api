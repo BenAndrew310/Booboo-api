{
 "cells": [
  {
   "cell_type": "code",
   "execution_count": 1,
   "metadata": {},
   "outputs": [],
   "source": [
    "import requests"
   ]
  },
  {
   "cell_type": "code",
   "execution_count": 8,
   "metadata": {},
   "outputs": [
    {
     "data": {
      "text/plain": [
       "[{'ID': 'af90b42ca990c3fe3261',\n",
       "  'date created': 'Thu, 23 Jul 2020 16:37:54 GMT',\n",
       "  'description': 'bedroom lamp',\n",
       "  'name': 'lamp',\n",
       "  'value': 'on',\n",
       "  'value type': 'boolean'},\n",
       " {'ID': '05760321759e360544b6',\n",
       "  'date created': 'Sat, 25 Jul 2020 07:59:55 GMT',\n",
       "  'description': 'Monitors temperature in the bedroom',\n",
       "  'name': 'Temp Monitor',\n",
       "  'value': '25.0',\n",
       "  'value type': 'floating point'}]"
      ]
     },
     "execution_count": 8,
     "metadata": {},
     "output_type": "execute_result"
    }
   ],
   "source": [
    "url = \"http://127.0.0.1:5000/api/v1/devices/all/21597ac3e2080eb7854e\"\n",
    "r = requests.get(url)\n",
    "r.json()"
   ]
  },
  {
   "cell_type": "code",
   "execution_count": 9,
   "metadata": {},
   "outputs": [
    {
     "data": {
      "text/plain": [
       "{'ID': 'af90b42ca990c3fe3261',\n",
       " 'date created': 'Thu, 23 Jul 2020 16:37:54 GMT',\n",
       " 'description': 'bedroom lamp',\n",
       " 'name': 'lamp',\n",
       " 'value': 'on',\n",
       " 'value type': 'boolean'}"
      ]
     },
     "execution_count": 9,
     "metadata": {},
     "output_type": "execute_result"
    }
   ],
   "source": [
    "url = \"http://127.0.0.1:5000/api/v1/device/21597ac3e2080eb7854e/af90b42ca990c3fe3261\"\n",
    "r = requests.get(url)\n",
    "r.json()"
   ]
  },
  {
   "cell_type": "code",
   "execution_count": 12,
   "metadata": {},
   "outputs": [
    {
     "name": "stdout",
     "output_type": "stream",
     "text": [
      "Temp Monitor: Monitors temperature in the bedroom\n",
      "Current value: 25.0\n"
     ]
    }
   ],
   "source": [
    "url = \"http://127.0.0.1:5000/api/v1/device/21597ac3e2080eb7854e/05760321759e360544b6\"\n",
    "r = requests.get(url)\n",
    "name = r.json()['name']\n",
    "description = r.json()['description']\n",
    "print(f\"{name}: {description}\\nCurrent value: {r.json()['value']}\")"
   ]
  },
  {
   "cell_type": "code",
   "execution_count": 13,
   "metadata": {},
   "outputs": [
    {
     "name": "stdout",
     "output_type": "stream",
     "text": [
      "{'ID': 'af90b42ca990c3fe3261', 'date created': 'Thu, 23 Jul 2020 16:37:54 GMT', 'description': 'bedroom lamp', 'name': 'lamp', 'value': 'on', 'value type': 'boolean'}\n",
      "{'ID': 'af90b42ca990c3fe3261', 'date created': 'Thu, 23 Jul 2020 16:37:54 GMT', 'description': 'bedroom lamp', 'name': 'lamp', 'value': 'on', 'value type': 'boolean'}\n",
      "{'ID': 'af90b42ca990c3fe3261', 'date created': 'Thu, 23 Jul 2020 16:37:54 GMT', 'description': 'bedroom lamp', 'name': 'lamp', 'value': 'off', 'value type': 'boolean'}\n",
      "{'ID': 'af90b42ca990c3fe3261', 'date created': 'Thu, 23 Jul 2020 16:37:54 GMT', 'description': 'bedroom lamp', 'name': 'lamp', 'value': 'off', 'value type': 'boolean'}\n",
      "{'ID': 'af90b42ca990c3fe3261', 'date created': 'Thu, 23 Jul 2020 16:37:54 GMT', 'description': 'bedroom lamp', 'name': 'lamp', 'value': 'off', 'value type': 'boolean'}\n"
     ]
    }
   ],
   "source": [
    "import random\n",
    "import time\n",
    "\n",
    "values = [\"on\",\"off\"]\n",
    "for i in range(5):\n",
    "    c = random.choice(values)\n",
    "    url = \"http://127.0.0.1:5000/api/v1/device/post-value/af90b42ca990c3fe3261/\"+c\n",
    "    r = requests.post(url)\n",
    "    print(r.json())\n",
    "    time.sleep(5)"
   ]
  },
  {
   "cell_type": "code",
   "execution_count": null,
   "metadata": {},
   "outputs": [],
   "source": []
  }
 ],
 "metadata": {
  "kernelspec": {
   "display_name": "Python 3",
   "language": "python",
   "name": "python3"
  },
  "language_info": {
   "codemirror_mode": {
    "name": "ipython",
    "version": 3
   },
   "file_extension": ".py",
   "mimetype": "text/x-python",
   "name": "python",
   "nbconvert_exporter": "python",
   "pygments_lexer": "ipython3",
   "version": "3.7.3"
  }
 },
 "nbformat": 4,
 "nbformat_minor": 4
}
